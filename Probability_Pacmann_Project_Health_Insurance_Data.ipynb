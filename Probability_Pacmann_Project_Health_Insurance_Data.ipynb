{
  "nbformat": 4,
  "nbformat_minor": 0,
  "metadata": {
    "colab": {
      "provenance": [],
      "collapsed_sections": [
        "i7R3h_vXBoVO",
        "TxzJXuA-IMyV",
        "mYEeUjp1IQQl",
        "LQM_s_elIz9E",
        "oq6XsUUyI-KE",
        "uaPPdUuvR1mN",
        "eUwvPdmtvz4t",
        "qwYmjLRoxxWT",
        "LgkL21zn6YvY",
        "4t_DDpn37F7a",
        "fc0p1S5d7g-e",
        "QMiOmIxs-Z7z",
        "mWQ8IEmGMlJr"
      ]
    },
    "kernelspec": {
      "name": "python3",
      "display_name": "Python 3"
    },
    "language_info": {
      "name": "python"
    }
  },
  "cells": [
    {
      "cell_type": "markdown",
      "source": [
        "**Analysis of insurance users - Final Project Probability Course Pacmann**"
      ],
      "metadata": {
        "id": "0ZhRcKJQBTxd"
      }
    },
    {
      "cell_type": "markdown",
      "source": [
        "# Intro"
      ],
      "metadata": {
        "id": "i7R3h_vXBoVO"
      }
    },
    {
      "cell_type": "markdown",
      "source": [
        "Data provided as insurance.csv containing the following columns:\n",
        "\n",
        "1. Age (Age of Users)\n",
        "2. Sex (Gender of Users)\n",
        "3. BMI (BMI of Users)\n",
        "4. Children (Number of children covered by insurance)\n",
        "5. Smoker (Smoking of Users)\n",
        "6. The Region (Region of Users)\n",
        "7. Charges (Cost of User)\n",
        "\n",
        "It has a total of 1,338 lines.\n",
        "\n",
        "From this data, it will be possible to see the correlation between the variables (columns) one with the other, so that it can be known which variables cause the user bills to be larger than others."
      ],
      "metadata": {
        "id": "6AFCkAmdCAsi"
      }
    },
    {
      "cell_type": "code",
      "execution_count": 1,
      "metadata": {
        "id": "uAQf4obqInWe"
      },
      "outputs": [],
      "source": [
        "# Import tools needed\n",
        "import pandas as pd\n",
        "import numpy as np\n",
        "import datetime as dt\n",
        "\n",
        "# Import Library for visualisation\n",
        "import seaborn as sns\n",
        "import matplotlib.pyplot as plt\n",
        "import matplotlib.ticker as ticker\n",
        "from scipy.stats import ttest_ind\n",
        "\n",
        "# Import Library to ignore future warning\n",
        "import warnings\n",
        "warnings.simplefilter(action='ignore', category=FutureWarning)"
      ]
    },
    {
      "cell_type": "code",
      "source": [
        "# connect to your drive\n",
        "from google.colab import drive\n",
        "drive.mount('/content/drive')"
      ],
      "metadata": {
        "colab": {
          "base_uri": "https://localhost:8080/"
        },
        "id": "-NsCrWCsIpGB",
        "outputId": "b3624663-f268-42fa-acda-f1e2dab4b93b"
      },
      "execution_count": 2,
      "outputs": [
        {
          "output_type": "stream",
          "name": "stdout",
          "text": [
            "Mounted at /content/drive\n"
          ]
        }
      ]
    },
    {
      "cell_type": "code",
      "source": [
        "insurance = pd.read_csv('/content/drive/MyDrive/dataset/insurance.zip')\n",
        "insurance.head()"
      ],
      "metadata": {
        "colab": {
          "base_uri": "https://localhost:8080/",
          "height": 206
        },
        "id": "rYtZ3P4LIsju",
        "outputId": "08f99b3c-a54e-483c-eb92-b114016fe157"
      },
      "execution_count": 3,
      "outputs": [
        {
          "output_type": "execute_result",
          "data": {
            "text/plain": [
              "   age     sex     bmi  children smoker     region      charges\n",
              "0   19  female  27.900         0    yes  southwest  16884.92400\n",
              "1   18    male  33.770         1     no  southeast   1725.55230\n",
              "2   28    male  33.000         3     no  southeast   4449.46200\n",
              "3   33    male  22.705         0     no  northwest  21984.47061\n",
              "4   32    male  28.880         0     no  northwest   3866.85520"
            ],
            "text/html": [
              "\n",
              "  <div id=\"df-ba8ca6ec-e848-4025-abcc-101d3d2ad451\">\n",
              "    <div class=\"colab-df-container\">\n",
              "      <div>\n",
              "<style scoped>\n",
              "    .dataframe tbody tr th:only-of-type {\n",
              "        vertical-align: middle;\n",
              "    }\n",
              "\n",
              "    .dataframe tbody tr th {\n",
              "        vertical-align: top;\n",
              "    }\n",
              "\n",
              "    .dataframe thead th {\n",
              "        text-align: right;\n",
              "    }\n",
              "</style>\n",
              "<table border=\"1\" class=\"dataframe\">\n",
              "  <thead>\n",
              "    <tr style=\"text-align: right;\">\n",
              "      <th></th>\n",
              "      <th>age</th>\n",
              "      <th>sex</th>\n",
              "      <th>bmi</th>\n",
              "      <th>children</th>\n",
              "      <th>smoker</th>\n",
              "      <th>region</th>\n",
              "      <th>charges</th>\n",
              "    </tr>\n",
              "  </thead>\n",
              "  <tbody>\n",
              "    <tr>\n",
              "      <th>0</th>\n",
              "      <td>19</td>\n",
              "      <td>female</td>\n",
              "      <td>27.900</td>\n",
              "      <td>0</td>\n",
              "      <td>yes</td>\n",
              "      <td>southwest</td>\n",
              "      <td>16884.92400</td>\n",
              "    </tr>\n",
              "    <tr>\n",
              "      <th>1</th>\n",
              "      <td>18</td>\n",
              "      <td>male</td>\n",
              "      <td>33.770</td>\n",
              "      <td>1</td>\n",
              "      <td>no</td>\n",
              "      <td>southeast</td>\n",
              "      <td>1725.55230</td>\n",
              "    </tr>\n",
              "    <tr>\n",
              "      <th>2</th>\n",
              "      <td>28</td>\n",
              "      <td>male</td>\n",
              "      <td>33.000</td>\n",
              "      <td>3</td>\n",
              "      <td>no</td>\n",
              "      <td>southeast</td>\n",
              "      <td>4449.46200</td>\n",
              "    </tr>\n",
              "    <tr>\n",
              "      <th>3</th>\n",
              "      <td>33</td>\n",
              "      <td>male</td>\n",
              "      <td>22.705</td>\n",
              "      <td>0</td>\n",
              "      <td>no</td>\n",
              "      <td>northwest</td>\n",
              "      <td>21984.47061</td>\n",
              "    </tr>\n",
              "    <tr>\n",
              "      <th>4</th>\n",
              "      <td>32</td>\n",
              "      <td>male</td>\n",
              "      <td>28.880</td>\n",
              "      <td>0</td>\n",
              "      <td>no</td>\n",
              "      <td>northwest</td>\n",
              "      <td>3866.85520</td>\n",
              "    </tr>\n",
              "  </tbody>\n",
              "</table>\n",
              "</div>\n",
              "      <button class=\"colab-df-convert\" onclick=\"convertToInteractive('df-ba8ca6ec-e848-4025-abcc-101d3d2ad451')\"\n",
              "              title=\"Convert this dataframe to an interactive table.\"\n",
              "              style=\"display:none;\">\n",
              "        \n",
              "  <svg xmlns=\"http://www.w3.org/2000/svg\" height=\"24px\"viewBox=\"0 0 24 24\"\n",
              "       width=\"24px\">\n",
              "    <path d=\"M0 0h24v24H0V0z\" fill=\"none\"/>\n",
              "    <path d=\"M18.56 5.44l.94 2.06.94-2.06 2.06-.94-2.06-.94-.94-2.06-.94 2.06-2.06.94zm-11 1L8.5 8.5l.94-2.06 2.06-.94-2.06-.94L8.5 2.5l-.94 2.06-2.06.94zm10 10l.94 2.06.94-2.06 2.06-.94-2.06-.94-.94-2.06-.94 2.06-2.06.94z\"/><path d=\"M17.41 7.96l-1.37-1.37c-.4-.4-.92-.59-1.43-.59-.52 0-1.04.2-1.43.59L10.3 9.45l-7.72 7.72c-.78.78-.78 2.05 0 2.83L4 21.41c.39.39.9.59 1.41.59.51 0 1.02-.2 1.41-.59l7.78-7.78 2.81-2.81c.8-.78.8-2.07 0-2.86zM5.41 20L4 18.59l7.72-7.72 1.47 1.35L5.41 20z\"/>\n",
              "  </svg>\n",
              "      </button>\n",
              "      \n",
              "  <style>\n",
              "    .colab-df-container {\n",
              "      display:flex;\n",
              "      flex-wrap:wrap;\n",
              "      gap: 12px;\n",
              "    }\n",
              "\n",
              "    .colab-df-convert {\n",
              "      background-color: #E8F0FE;\n",
              "      border: none;\n",
              "      border-radius: 50%;\n",
              "      cursor: pointer;\n",
              "      display: none;\n",
              "      fill: #1967D2;\n",
              "      height: 32px;\n",
              "      padding: 0 0 0 0;\n",
              "      width: 32px;\n",
              "    }\n",
              "\n",
              "    .colab-df-convert:hover {\n",
              "      background-color: #E2EBFA;\n",
              "      box-shadow: 0px 1px 2px rgba(60, 64, 67, 0.3), 0px 1px 3px 1px rgba(60, 64, 67, 0.15);\n",
              "      fill: #174EA6;\n",
              "    }\n",
              "\n",
              "    [theme=dark] .colab-df-convert {\n",
              "      background-color: #3B4455;\n",
              "      fill: #D2E3FC;\n",
              "    }\n",
              "\n",
              "    [theme=dark] .colab-df-convert:hover {\n",
              "      background-color: #434B5C;\n",
              "      box-shadow: 0px 1px 3px 1px rgba(0, 0, 0, 0.15);\n",
              "      filter: drop-shadow(0px 1px 2px rgba(0, 0, 0, 0.3));\n",
              "      fill: #FFFFFF;\n",
              "    }\n",
              "  </style>\n",
              "\n",
              "      <script>\n",
              "        const buttonEl =\n",
              "          document.querySelector('#df-ba8ca6ec-e848-4025-abcc-101d3d2ad451 button.colab-df-convert');\n",
              "        buttonEl.style.display =\n",
              "          google.colab.kernel.accessAllowed ? 'block' : 'none';\n",
              "\n",
              "        async function convertToInteractive(key) {\n",
              "          const element = document.querySelector('#df-ba8ca6ec-e848-4025-abcc-101d3d2ad451');\n",
              "          const dataTable =\n",
              "            await google.colab.kernel.invokeFunction('convertToInteractive',\n",
              "                                                     [key], {});\n",
              "          if (!dataTable) return;\n",
              "\n",
              "          const docLinkHtml = 'Like what you see? Visit the ' +\n",
              "            '<a target=\"_blank\" href=https://colab.research.google.com/notebooks/data_table.ipynb>data table notebook</a>'\n",
              "            + ' to learn more about interactive tables.';\n",
              "          element.innerHTML = '';\n",
              "          dataTable['output_type'] = 'display_data';\n",
              "          await google.colab.output.renderOutput(dataTable, element);\n",
              "          const docLink = document.createElement('div');\n",
              "          docLink.innerHTML = docLinkHtml;\n",
              "          element.appendChild(docLink);\n",
              "        }\n",
              "      </script>\n",
              "    </div>\n",
              "  </div>\n",
              "  "
            ]
          },
          "metadata": {},
          "execution_count": 3
        }
      ]
    },
    {
      "cell_type": "markdown",
      "source": [
        "The dataset will be checked to ensure there are no empty values before any further analysis is done."
      ],
      "metadata": {
        "id": "piXTH8qPBHnO"
      }
    },
    {
      "cell_type": "code",
      "source": [
        "insurance.info()"
      ],
      "metadata": {
        "colab": {
          "base_uri": "https://localhost:8080/"
        },
        "id": "cZ6p7khK32A0",
        "outputId": "b7f24ba9-2829-4a62-b87c-dac8de553107"
      },
      "execution_count": 4,
      "outputs": [
        {
          "output_type": "stream",
          "name": "stdout",
          "text": [
            "<class 'pandas.core.frame.DataFrame'>\n",
            "RangeIndex: 1338 entries, 0 to 1337\n",
            "Data columns (total 7 columns):\n",
            " #   Column    Non-Null Count  Dtype  \n",
            "---  ------    --------------  -----  \n",
            " 0   age       1338 non-null   int64  \n",
            " 1   sex       1338 non-null   object \n",
            " 2   bmi       1338 non-null   float64\n",
            " 3   children  1338 non-null   int64  \n",
            " 4   smoker    1338 non-null   object \n",
            " 5   region    1338 non-null   object \n",
            " 6   charges   1338 non-null   float64\n",
            "dtypes: float64(2), int64(2), object(3)\n",
            "memory usage: 73.3+ KB\n"
          ]
        }
      ]
    },
    {
      "cell_type": "markdown",
      "source": [
        "There are no empty values in the available datasets, which gives direct access to analysis.\n",
        "\n",
        "Do the following preview next."
      ],
      "metadata": {
        "id": "gKKuC0e7EXoy"
      }
    },
    {
      "cell_type": "code",
      "source": [
        "insurance.describe()"
      ],
      "metadata": {
        "colab": {
          "base_uri": "https://localhost:8080/",
          "height": 300
        },
        "id": "lSoElW453_Ww",
        "outputId": "ce6a4183-fc46-4f5c-846a-b25aa5594591"
      },
      "execution_count": 5,
      "outputs": [
        {
          "output_type": "execute_result",
          "data": {
            "text/plain": [
              "               age          bmi     children       charges\n",
              "count  1338.000000  1338.000000  1338.000000   1338.000000\n",
              "mean     39.207025    30.663397     1.094918  13270.422265\n",
              "std      14.049960     6.098187     1.205493  12110.011237\n",
              "min      18.000000    15.960000     0.000000   1121.873900\n",
              "25%      27.000000    26.296250     0.000000   4740.287150\n",
              "50%      39.000000    30.400000     1.000000   9382.033000\n",
              "75%      51.000000    34.693750     2.000000  16639.912515\n",
              "max      64.000000    53.130000     5.000000  63770.428010"
            ],
            "text/html": [
              "\n",
              "  <div id=\"df-c0579471-9ec2-433a-a0cb-b3cb784803e4\">\n",
              "    <div class=\"colab-df-container\">\n",
              "      <div>\n",
              "<style scoped>\n",
              "    .dataframe tbody tr th:only-of-type {\n",
              "        vertical-align: middle;\n",
              "    }\n",
              "\n",
              "    .dataframe tbody tr th {\n",
              "        vertical-align: top;\n",
              "    }\n",
              "\n",
              "    .dataframe thead th {\n",
              "        text-align: right;\n",
              "    }\n",
              "</style>\n",
              "<table border=\"1\" class=\"dataframe\">\n",
              "  <thead>\n",
              "    <tr style=\"text-align: right;\">\n",
              "      <th></th>\n",
              "      <th>age</th>\n",
              "      <th>bmi</th>\n",
              "      <th>children</th>\n",
              "      <th>charges</th>\n",
              "    </tr>\n",
              "  </thead>\n",
              "  <tbody>\n",
              "    <tr>\n",
              "      <th>count</th>\n",
              "      <td>1338.000000</td>\n",
              "      <td>1338.000000</td>\n",
              "      <td>1338.000000</td>\n",
              "      <td>1338.000000</td>\n",
              "    </tr>\n",
              "    <tr>\n",
              "      <th>mean</th>\n",
              "      <td>39.207025</td>\n",
              "      <td>30.663397</td>\n",
              "      <td>1.094918</td>\n",
              "      <td>13270.422265</td>\n",
              "    </tr>\n",
              "    <tr>\n",
              "      <th>std</th>\n",
              "      <td>14.049960</td>\n",
              "      <td>6.098187</td>\n",
              "      <td>1.205493</td>\n",
              "      <td>12110.011237</td>\n",
              "    </tr>\n",
              "    <tr>\n",
              "      <th>min</th>\n",
              "      <td>18.000000</td>\n",
              "      <td>15.960000</td>\n",
              "      <td>0.000000</td>\n",
              "      <td>1121.873900</td>\n",
              "    </tr>\n",
              "    <tr>\n",
              "      <th>25%</th>\n",
              "      <td>27.000000</td>\n",
              "      <td>26.296250</td>\n",
              "      <td>0.000000</td>\n",
              "      <td>4740.287150</td>\n",
              "    </tr>\n",
              "    <tr>\n",
              "      <th>50%</th>\n",
              "      <td>39.000000</td>\n",
              "      <td>30.400000</td>\n",
              "      <td>1.000000</td>\n",
              "      <td>9382.033000</td>\n",
              "    </tr>\n",
              "    <tr>\n",
              "      <th>75%</th>\n",
              "      <td>51.000000</td>\n",
              "      <td>34.693750</td>\n",
              "      <td>2.000000</td>\n",
              "      <td>16639.912515</td>\n",
              "    </tr>\n",
              "    <tr>\n",
              "      <th>max</th>\n",
              "      <td>64.000000</td>\n",
              "      <td>53.130000</td>\n",
              "      <td>5.000000</td>\n",
              "      <td>63770.428010</td>\n",
              "    </tr>\n",
              "  </tbody>\n",
              "</table>\n",
              "</div>\n",
              "      <button class=\"colab-df-convert\" onclick=\"convertToInteractive('df-c0579471-9ec2-433a-a0cb-b3cb784803e4')\"\n",
              "              title=\"Convert this dataframe to an interactive table.\"\n",
              "              style=\"display:none;\">\n",
              "        \n",
              "  <svg xmlns=\"http://www.w3.org/2000/svg\" height=\"24px\"viewBox=\"0 0 24 24\"\n",
              "       width=\"24px\">\n",
              "    <path d=\"M0 0h24v24H0V0z\" fill=\"none\"/>\n",
              "    <path d=\"M18.56 5.44l.94 2.06.94-2.06 2.06-.94-2.06-.94-.94-2.06-.94 2.06-2.06.94zm-11 1L8.5 8.5l.94-2.06 2.06-.94-2.06-.94L8.5 2.5l-.94 2.06-2.06.94zm10 10l.94 2.06.94-2.06 2.06-.94-2.06-.94-.94-2.06-.94 2.06-2.06.94z\"/><path d=\"M17.41 7.96l-1.37-1.37c-.4-.4-.92-.59-1.43-.59-.52 0-1.04.2-1.43.59L10.3 9.45l-7.72 7.72c-.78.78-.78 2.05 0 2.83L4 21.41c.39.39.9.59 1.41.59.51 0 1.02-.2 1.41-.59l7.78-7.78 2.81-2.81c.8-.78.8-2.07 0-2.86zM5.41 20L4 18.59l7.72-7.72 1.47 1.35L5.41 20z\"/>\n",
              "  </svg>\n",
              "      </button>\n",
              "      \n",
              "  <style>\n",
              "    .colab-df-container {\n",
              "      display:flex;\n",
              "      flex-wrap:wrap;\n",
              "      gap: 12px;\n",
              "    }\n",
              "\n",
              "    .colab-df-convert {\n",
              "      background-color: #E8F0FE;\n",
              "      border: none;\n",
              "      border-radius: 50%;\n",
              "      cursor: pointer;\n",
              "      display: none;\n",
              "      fill: #1967D2;\n",
              "      height: 32px;\n",
              "      padding: 0 0 0 0;\n",
              "      width: 32px;\n",
              "    }\n",
              "\n",
              "    .colab-df-convert:hover {\n",
              "      background-color: #E2EBFA;\n",
              "      box-shadow: 0px 1px 2px rgba(60, 64, 67, 0.3), 0px 1px 3px 1px rgba(60, 64, 67, 0.15);\n",
              "      fill: #174EA6;\n",
              "    }\n",
              "\n",
              "    [theme=dark] .colab-df-convert {\n",
              "      background-color: #3B4455;\n",
              "      fill: #D2E3FC;\n",
              "    }\n",
              "\n",
              "    [theme=dark] .colab-df-convert:hover {\n",
              "      background-color: #434B5C;\n",
              "      box-shadow: 0px 1px 3px 1px rgba(0, 0, 0, 0.15);\n",
              "      filter: drop-shadow(0px 1px 2px rgba(0, 0, 0, 0.3));\n",
              "      fill: #FFFFFF;\n",
              "    }\n",
              "  </style>\n",
              "\n",
              "      <script>\n",
              "        const buttonEl =\n",
              "          document.querySelector('#df-c0579471-9ec2-433a-a0cb-b3cb784803e4 button.colab-df-convert');\n",
              "        buttonEl.style.display =\n",
              "          google.colab.kernel.accessAllowed ? 'block' : 'none';\n",
              "\n",
              "        async function convertToInteractive(key) {\n",
              "          const element = document.querySelector('#df-c0579471-9ec2-433a-a0cb-b3cb784803e4');\n",
              "          const dataTable =\n",
              "            await google.colab.kernel.invokeFunction('convertToInteractive',\n",
              "                                                     [key], {});\n",
              "          if (!dataTable) return;\n",
              "\n",
              "          const docLinkHtml = 'Like what you see? Visit the ' +\n",
              "            '<a target=\"_blank\" href=https://colab.research.google.com/notebooks/data_table.ipynb>data table notebook</a>'\n",
              "            + ' to learn more about interactive tables.';\n",
              "          element.innerHTML = '';\n",
              "          dataTable['output_type'] = 'display_data';\n",
              "          await google.colab.output.renderOutput(dataTable, element);\n",
              "          const docLink = document.createElement('div');\n",
              "          docLink.innerHTML = docLinkHtml;\n",
              "          element.appendChild(docLink);\n",
              "        }\n",
              "      </script>\n",
              "    </div>\n",
              "  </div>\n",
              "  "
            ]
          },
          "metadata": {},
          "execution_count": 5
        }
      ]
    },
    {
      "cell_type": "markdown",
      "source": [
        "# 1. Analysis of descriptive statistics"
      ],
      "metadata": {
        "id": "TxzJXuA-IMyV"
      }
    },
    {
      "cell_type": "markdown",
      "source": [
        "## 1.1 Average Age of Users"
      ],
      "metadata": {
        "id": "mYEeUjp1IQQl"
      }
    },
    {
      "cell_type": "code",
      "source": [
        "print('The average age of insurance users is', round(insurance['age'].mean(),0), 'year')"
      ],
      "metadata": {
        "colab": {
          "base_uri": "https://localhost:8080/"
        },
        "id": "iqgPsD3EEp7W",
        "outputId": "1d7985e6-4b28-4a9b-c2df-d684563107ae"
      },
      "execution_count": 6,
      "outputs": [
        {
          "output_type": "stream",
          "name": "stdout",
          "text": [
            "The average age of insurance users is 39.0 year\n"
          ]
        }
      ]
    },
    {
      "cell_type": "markdown",
      "source": [
        "## 1.2 What is the average BMI value of those who smoke?"
      ],
      "metadata": {
        "id": "LQM_s_elIz9E"
      }
    },
    {
      "cell_type": "code",
      "source": [
        "mean_bmi_smokers = insurance[(insurance['smoker'] == 'yes')]['bmi'].mean()\n",
        "print(f\"The average bmi of smokers is :{mean_bmi_smokers}\")"
      ],
      "metadata": {
        "colab": {
          "base_uri": "https://localhost:8080/"
        },
        "id": "If_neNPFI7Aa",
        "outputId": "b66f2b70-86c9-4d7e-8c36-8b97a69a4a5e"
      },
      "execution_count": 7,
      "outputs": [
        {
          "output_type": "stream",
          "name": "stdout",
          "text": [
            "The average bmi of smokers is :30.70844890510949\n"
          ]
        }
      ]
    },
    {
      "cell_type": "markdown",
      "source": [
        "## 1.3 Is the variance of the health bills of smokers and non-smokers the same?"
      ],
      "metadata": {
        "id": "oq6XsUUyI-KE"
      }
    },
    {
      "cell_type": "markdown",
      "source": [
        "The data we need is\n",
        "1. Charges for smokers\n",
        "2. Charges for non-smokers"
      ],
      "metadata": {
        "id": "YH6c1gm6Pe6h"
      }
    },
    {
      "cell_type": "code",
      "source": [
        "# Find the variation of smoking bills by creating a table\n",
        "charges_smoker = insurance[insurance[\"smoker\"]==\"yes\"][[\"charges\"]].reset_index()\n",
        "charges_smoker"
      ],
      "metadata": {
        "colab": {
          "base_uri": "https://localhost:8080/",
          "height": 424
        },
        "id": "ernzfe98JPGT",
        "outputId": "5f519871-bfdd-4562-f9d9-690f9b01a30b"
      },
      "execution_count": 8,
      "outputs": [
        {
          "output_type": "execute_result",
          "data": {
            "text/plain": [
              "     index      charges\n",
              "0        0  16884.92400\n",
              "1       11  27808.72510\n",
              "2       14  39611.75770\n",
              "3       19  36837.46700\n",
              "4       23  37701.87680\n",
              "..     ...          ...\n",
              "269   1313  36397.57600\n",
              "270   1314  18765.87545\n",
              "271   1321  28101.33305\n",
              "272   1323  43896.37630\n",
              "273   1337  29141.36030\n",
              "\n",
              "[274 rows x 2 columns]"
            ],
            "text/html": [
              "\n",
              "  <div id=\"df-c03dd82c-8386-4fd0-9211-740d80fd95e0\">\n",
              "    <div class=\"colab-df-container\">\n",
              "      <div>\n",
              "<style scoped>\n",
              "    .dataframe tbody tr th:only-of-type {\n",
              "        vertical-align: middle;\n",
              "    }\n",
              "\n",
              "    .dataframe tbody tr th {\n",
              "        vertical-align: top;\n",
              "    }\n",
              "\n",
              "    .dataframe thead th {\n",
              "        text-align: right;\n",
              "    }\n",
              "</style>\n",
              "<table border=\"1\" class=\"dataframe\">\n",
              "  <thead>\n",
              "    <tr style=\"text-align: right;\">\n",
              "      <th></th>\n",
              "      <th>index</th>\n",
              "      <th>charges</th>\n",
              "    </tr>\n",
              "  </thead>\n",
              "  <tbody>\n",
              "    <tr>\n",
              "      <th>0</th>\n",
              "      <td>0</td>\n",
              "      <td>16884.92400</td>\n",
              "    </tr>\n",
              "    <tr>\n",
              "      <th>1</th>\n",
              "      <td>11</td>\n",
              "      <td>27808.72510</td>\n",
              "    </tr>\n",
              "    <tr>\n",
              "      <th>2</th>\n",
              "      <td>14</td>\n",
              "      <td>39611.75770</td>\n",
              "    </tr>\n",
              "    <tr>\n",
              "      <th>3</th>\n",
              "      <td>19</td>\n",
              "      <td>36837.46700</td>\n",
              "    </tr>\n",
              "    <tr>\n",
              "      <th>4</th>\n",
              "      <td>23</td>\n",
              "      <td>37701.87680</td>\n",
              "    </tr>\n",
              "    <tr>\n",
              "      <th>...</th>\n",
              "      <td>...</td>\n",
              "      <td>...</td>\n",
              "    </tr>\n",
              "    <tr>\n",
              "      <th>269</th>\n",
              "      <td>1313</td>\n",
              "      <td>36397.57600</td>\n",
              "    </tr>\n",
              "    <tr>\n",
              "      <th>270</th>\n",
              "      <td>1314</td>\n",
              "      <td>18765.87545</td>\n",
              "    </tr>\n",
              "    <tr>\n",
              "      <th>271</th>\n",
              "      <td>1321</td>\n",
              "      <td>28101.33305</td>\n",
              "    </tr>\n",
              "    <tr>\n",
              "      <th>272</th>\n",
              "      <td>1323</td>\n",
              "      <td>43896.37630</td>\n",
              "    </tr>\n",
              "    <tr>\n",
              "      <th>273</th>\n",
              "      <td>1337</td>\n",
              "      <td>29141.36030</td>\n",
              "    </tr>\n",
              "  </tbody>\n",
              "</table>\n",
              "<p>274 rows × 2 columns</p>\n",
              "</div>\n",
              "      <button class=\"colab-df-convert\" onclick=\"convertToInteractive('df-c03dd82c-8386-4fd0-9211-740d80fd95e0')\"\n",
              "              title=\"Convert this dataframe to an interactive table.\"\n",
              "              style=\"display:none;\">\n",
              "        \n",
              "  <svg xmlns=\"http://www.w3.org/2000/svg\" height=\"24px\"viewBox=\"0 0 24 24\"\n",
              "       width=\"24px\">\n",
              "    <path d=\"M0 0h24v24H0V0z\" fill=\"none\"/>\n",
              "    <path d=\"M18.56 5.44l.94 2.06.94-2.06 2.06-.94-2.06-.94-.94-2.06-.94 2.06-2.06.94zm-11 1L8.5 8.5l.94-2.06 2.06-.94-2.06-.94L8.5 2.5l-.94 2.06-2.06.94zm10 10l.94 2.06.94-2.06 2.06-.94-2.06-.94-.94-2.06-.94 2.06-2.06.94z\"/><path d=\"M17.41 7.96l-1.37-1.37c-.4-.4-.92-.59-1.43-.59-.52 0-1.04.2-1.43.59L10.3 9.45l-7.72 7.72c-.78.78-.78 2.05 0 2.83L4 21.41c.39.39.9.59 1.41.59.51 0 1.02-.2 1.41-.59l7.78-7.78 2.81-2.81c.8-.78.8-2.07 0-2.86zM5.41 20L4 18.59l7.72-7.72 1.47 1.35L5.41 20z\"/>\n",
              "  </svg>\n",
              "      </button>\n",
              "      \n",
              "  <style>\n",
              "    .colab-df-container {\n",
              "      display:flex;\n",
              "      flex-wrap:wrap;\n",
              "      gap: 12px;\n",
              "    }\n",
              "\n",
              "    .colab-df-convert {\n",
              "      background-color: #E8F0FE;\n",
              "      border: none;\n",
              "      border-radius: 50%;\n",
              "      cursor: pointer;\n",
              "      display: none;\n",
              "      fill: #1967D2;\n",
              "      height: 32px;\n",
              "      padding: 0 0 0 0;\n",
              "      width: 32px;\n",
              "    }\n",
              "\n",
              "    .colab-df-convert:hover {\n",
              "      background-color: #E2EBFA;\n",
              "      box-shadow: 0px 1px 2px rgba(60, 64, 67, 0.3), 0px 1px 3px 1px rgba(60, 64, 67, 0.15);\n",
              "      fill: #174EA6;\n",
              "    }\n",
              "\n",
              "    [theme=dark] .colab-df-convert {\n",
              "      background-color: #3B4455;\n",
              "      fill: #D2E3FC;\n",
              "    }\n",
              "\n",
              "    [theme=dark] .colab-df-convert:hover {\n",
              "      background-color: #434B5C;\n",
              "      box-shadow: 0px 1px 3px 1px rgba(0, 0, 0, 0.15);\n",
              "      filter: drop-shadow(0px 1px 2px rgba(0, 0, 0, 0.3));\n",
              "      fill: #FFFFFF;\n",
              "    }\n",
              "  </style>\n",
              "\n",
              "      <script>\n",
              "        const buttonEl =\n",
              "          document.querySelector('#df-c03dd82c-8386-4fd0-9211-740d80fd95e0 button.colab-df-convert');\n",
              "        buttonEl.style.display =\n",
              "          google.colab.kernel.accessAllowed ? 'block' : 'none';\n",
              "\n",
              "        async function convertToInteractive(key) {\n",
              "          const element = document.querySelector('#df-c03dd82c-8386-4fd0-9211-740d80fd95e0');\n",
              "          const dataTable =\n",
              "            await google.colab.kernel.invokeFunction('convertToInteractive',\n",
              "                                                     [key], {});\n",
              "          if (!dataTable) return;\n",
              "\n",
              "          const docLinkHtml = 'Like what you see? Visit the ' +\n",
              "            '<a target=\"_blank\" href=https://colab.research.google.com/notebooks/data_table.ipynb>data table notebook</a>'\n",
              "            + ' to learn more about interactive tables.';\n",
              "          element.innerHTML = '';\n",
              "          dataTable['output_type'] = 'display_data';\n",
              "          await google.colab.output.renderOutput(dataTable, element);\n",
              "          const docLink = document.createElement('div');\n",
              "          docLink.innerHTML = docLinkHtml;\n",
              "          element.appendChild(docLink);\n",
              "        }\n",
              "      </script>\n",
              "    </div>\n",
              "  </div>\n",
              "  "
            ]
          },
          "metadata": {},
          "execution_count": 8
        }
      ]
    },
    {
      "cell_type": "code",
      "source": [
        "# Filtering the data\n",
        "charges_non_smoker = insurance[insurance[\"smoker\"]==\"no\"][[\"charges\"]].reset_index()\n",
        "charges_non_smoker"
      ],
      "metadata": {
        "colab": {
          "base_uri": "https://localhost:8080/",
          "height": 424
        },
        "id": "TbqtpYHsKwDq",
        "outputId": "6dd6d793-0e0a-4c5d-e45b-b909029becfb"
      },
      "execution_count": 9,
      "outputs": [
        {
          "output_type": "execute_result",
          "data": {
            "text/plain": [
              "      index      charges\n",
              "0         1   1725.55230\n",
              "1         2   4449.46200\n",
              "2         3  21984.47061\n",
              "3         4   3866.85520\n",
              "4         5   3756.62160\n",
              "...     ...          ...\n",
              "1059   1332  11411.68500\n",
              "1060   1333  10600.54830\n",
              "1061   1334   2205.98080\n",
              "1062   1335   1629.83350\n",
              "1063   1336   2007.94500\n",
              "\n",
              "[1064 rows x 2 columns]"
            ],
            "text/html": [
              "\n",
              "  <div id=\"df-7520376e-3516-4bd4-9636-03c8c1d9e968\">\n",
              "    <div class=\"colab-df-container\">\n",
              "      <div>\n",
              "<style scoped>\n",
              "    .dataframe tbody tr th:only-of-type {\n",
              "        vertical-align: middle;\n",
              "    }\n",
              "\n",
              "    .dataframe tbody tr th {\n",
              "        vertical-align: top;\n",
              "    }\n",
              "\n",
              "    .dataframe thead th {\n",
              "        text-align: right;\n",
              "    }\n",
              "</style>\n",
              "<table border=\"1\" class=\"dataframe\">\n",
              "  <thead>\n",
              "    <tr style=\"text-align: right;\">\n",
              "      <th></th>\n",
              "      <th>index</th>\n",
              "      <th>charges</th>\n",
              "    </tr>\n",
              "  </thead>\n",
              "  <tbody>\n",
              "    <tr>\n",
              "      <th>0</th>\n",
              "      <td>1</td>\n",
              "      <td>1725.55230</td>\n",
              "    </tr>\n",
              "    <tr>\n",
              "      <th>1</th>\n",
              "      <td>2</td>\n",
              "      <td>4449.46200</td>\n",
              "    </tr>\n",
              "    <tr>\n",
              "      <th>2</th>\n",
              "      <td>3</td>\n",
              "      <td>21984.47061</td>\n",
              "    </tr>\n",
              "    <tr>\n",
              "      <th>3</th>\n",
              "      <td>4</td>\n",
              "      <td>3866.85520</td>\n",
              "    </tr>\n",
              "    <tr>\n",
              "      <th>4</th>\n",
              "      <td>5</td>\n",
              "      <td>3756.62160</td>\n",
              "    </tr>\n",
              "    <tr>\n",
              "      <th>...</th>\n",
              "      <td>...</td>\n",
              "      <td>...</td>\n",
              "    </tr>\n",
              "    <tr>\n",
              "      <th>1059</th>\n",
              "      <td>1332</td>\n",
              "      <td>11411.68500</td>\n",
              "    </tr>\n",
              "    <tr>\n",
              "      <th>1060</th>\n",
              "      <td>1333</td>\n",
              "      <td>10600.54830</td>\n",
              "    </tr>\n",
              "    <tr>\n",
              "      <th>1061</th>\n",
              "      <td>1334</td>\n",
              "      <td>2205.98080</td>\n",
              "    </tr>\n",
              "    <tr>\n",
              "      <th>1062</th>\n",
              "      <td>1335</td>\n",
              "      <td>1629.83350</td>\n",
              "    </tr>\n",
              "    <tr>\n",
              "      <th>1063</th>\n",
              "      <td>1336</td>\n",
              "      <td>2007.94500</td>\n",
              "    </tr>\n",
              "  </tbody>\n",
              "</table>\n",
              "<p>1064 rows × 2 columns</p>\n",
              "</div>\n",
              "      <button class=\"colab-df-convert\" onclick=\"convertToInteractive('df-7520376e-3516-4bd4-9636-03c8c1d9e968')\"\n",
              "              title=\"Convert this dataframe to an interactive table.\"\n",
              "              style=\"display:none;\">\n",
              "        \n",
              "  <svg xmlns=\"http://www.w3.org/2000/svg\" height=\"24px\"viewBox=\"0 0 24 24\"\n",
              "       width=\"24px\">\n",
              "    <path d=\"M0 0h24v24H0V0z\" fill=\"none\"/>\n",
              "    <path d=\"M18.56 5.44l.94 2.06.94-2.06 2.06-.94-2.06-.94-.94-2.06-.94 2.06-2.06.94zm-11 1L8.5 8.5l.94-2.06 2.06-.94-2.06-.94L8.5 2.5l-.94 2.06-2.06.94zm10 10l.94 2.06.94-2.06 2.06-.94-2.06-.94-.94-2.06-.94 2.06-2.06.94z\"/><path d=\"M17.41 7.96l-1.37-1.37c-.4-.4-.92-.59-1.43-.59-.52 0-1.04.2-1.43.59L10.3 9.45l-7.72 7.72c-.78.78-.78 2.05 0 2.83L4 21.41c.39.39.9.59 1.41.59.51 0 1.02-.2 1.41-.59l7.78-7.78 2.81-2.81c.8-.78.8-2.07 0-2.86zM5.41 20L4 18.59l7.72-7.72 1.47 1.35L5.41 20z\"/>\n",
              "  </svg>\n",
              "      </button>\n",
              "      \n",
              "  <style>\n",
              "    .colab-df-container {\n",
              "      display:flex;\n",
              "      flex-wrap:wrap;\n",
              "      gap: 12px;\n",
              "    }\n",
              "\n",
              "    .colab-df-convert {\n",
              "      background-color: #E8F0FE;\n",
              "      border: none;\n",
              "      border-radius: 50%;\n",
              "      cursor: pointer;\n",
              "      display: none;\n",
              "      fill: #1967D2;\n",
              "      height: 32px;\n",
              "      padding: 0 0 0 0;\n",
              "      width: 32px;\n",
              "    }\n",
              "\n",
              "    .colab-df-convert:hover {\n",
              "      background-color: #E2EBFA;\n",
              "      box-shadow: 0px 1px 2px rgba(60, 64, 67, 0.3), 0px 1px 3px 1px rgba(60, 64, 67, 0.15);\n",
              "      fill: #174EA6;\n",
              "    }\n",
              "\n",
              "    [theme=dark] .colab-df-convert {\n",
              "      background-color: #3B4455;\n",
              "      fill: #D2E3FC;\n",
              "    }\n",
              "\n",
              "    [theme=dark] .colab-df-convert:hover {\n",
              "      background-color: #434B5C;\n",
              "      box-shadow: 0px 1px 3px 1px rgba(0, 0, 0, 0.15);\n",
              "      filter: drop-shadow(0px 1px 2px rgba(0, 0, 0, 0.3));\n",
              "      fill: #FFFFFF;\n",
              "    }\n",
              "  </style>\n",
              "\n",
              "      <script>\n",
              "        const buttonEl =\n",
              "          document.querySelector('#df-7520376e-3516-4bd4-9636-03c8c1d9e968 button.colab-df-convert');\n",
              "        buttonEl.style.display =\n",
              "          google.colab.kernel.accessAllowed ? 'block' : 'none';\n",
              "\n",
              "        async function convertToInteractive(key) {\n",
              "          const element = document.querySelector('#df-7520376e-3516-4bd4-9636-03c8c1d9e968');\n",
              "          const dataTable =\n",
              "            await google.colab.kernel.invokeFunction('convertToInteractive',\n",
              "                                                     [key], {});\n",
              "          if (!dataTable) return;\n",
              "\n",
              "          const docLinkHtml = 'Like what you see? Visit the ' +\n",
              "            '<a target=\"_blank\" href=https://colab.research.google.com/notebooks/data_table.ipynb>data table notebook</a>'\n",
              "            + ' to learn more about interactive tables.';\n",
              "          element.innerHTML = '';\n",
              "          dataTable['output_type'] = 'display_data';\n",
              "          await google.colab.output.renderOutput(dataTable, element);\n",
              "          const docLink = document.createElement('div');\n",
              "          docLink.innerHTML = docLinkHtml;\n",
              "          element.appendChild(docLink);\n",
              "        }\n",
              "      </script>\n",
              "    </div>\n",
              "  </div>\n",
              "  "
            ]
          },
          "metadata": {},
          "execution_count": 9
        }
      ]
    },
    {
      "cell_type": "code",
      "source": [
        "# Create a variable with numpy.\n",
        "var_charges_smoker = np.var(charges_smoker)\n",
        "var_charges_smoker"
      ],
      "metadata": {
        "colab": {
          "base_uri": "https://localhost:8080/"
        },
        "id": "1nGAbyqWKzFA",
        "outputId": "529b845a-c11d-4d9f-da7b-866589d3278d"
      },
      "execution_count": 10,
      "outputs": [
        {
          "output_type": "execute_result",
          "data": {
            "text/plain": [
              "index      1.642753e+05\n",
              "charges    1.327212e+08\n",
              "dtype: float64"
            ]
          },
          "metadata": {},
          "execution_count": 10
        }
      ]
    },
    {
      "cell_type": "code",
      "source": [
        "# Create a variable with numpy.\n",
        "var_charges_non_smoker = np.var(charges_non_smoker)\n",
        "var_charges_non_smoker"
      ],
      "metadata": {
        "colab": {
          "base_uri": "https://localhost:8080/"
        },
        "id": "U2l1KwInK1BZ",
        "outputId": "448bf590-a8ce-45d8-f0b7-064f686c6f26"
      },
      "execution_count": 11,
      "outputs": [
        {
          "output_type": "execute_result",
          "data": {
            "text/plain": [
              "index      1.452963e+05\n",
              "charges    3.589166e+07\n",
              "dtype: float64"
            ]
          },
          "metadata": {},
          "execution_count": 11
        }
      ]
    },
    {
      "cell_type": "code",
      "source": [
        "# Create a visualization for smoker and non-smoker\n",
        "plt.figure(figsize=(10,6))\n",
        "\n",
        "plt.subplot(2,1,1)\n",
        "sns.histplot(charges_smoker[\"charges\"], bins = 15 )\n",
        "plt.ylabel('Bills for smoker')\n",
        "plt.xlabel('Number of bills')\n",
        "\n",
        "\n",
        "plt.subplot(2,1,2)\n",
        "sns.histplot(charges_non_smoker[\"charges\"], bins = 15)\n",
        "plt.ylabel('Bills for non-smoker')\n",
        "plt.xlabel('Number of bills')"
      ],
      "metadata": {
        "colab": {
          "base_uri": "https://localhost:8080/",
          "height": 559
        },
        "id": "rUVOmENtLNFB",
        "outputId": "3de688f4-66a2-4bb3-80c8-6c5d96fea8d2"
      },
      "execution_count": 12,
      "outputs": [
        {
          "output_type": "execute_result",
          "data": {
            "text/plain": [
              "Text(0.5, 0, 'Number of bills')"
            ]
          },
          "metadata": {},
          "execution_count": 12
        },
        {
          "output_type": "display_data",
          "data": {
            "text/plain": [
              "<Figure size 1000x600 with 2 Axes>"
            ],
            "image/png": "[encoded data removed]"
          },
          "metadata": {}
        }
      ]
    },
    {
      "cell_type": "markdown",
      "source": [
        "## 1.4 Average Age for Male and Female Smoker"
      ],
      "metadata": {
        "id": "uaPPdUuvR1mN"
      }
    },
    {
      "cell_type": "code",
      "source": [
        "# Calculate the average age of male and female smokers\n",
        "smoker_male = insurance.loc[(insurance['smoker'] == 'yes')&(insurance['sex'] =='male')]\n",
        "smoker_female = insurance.loc[(insurance['smoker'] == 'yes')&(insurance['sex'] =='female')]\n",
        "average_age_smoker = (insurance[insurance['smoker'].isin(['yes'])].groupby(['sex','smoker']).agg(np.mean))\n",
        "ax = average_age_smoker.plot(kind=\"bar\", y=\"age\", title=\"Age Average\", color=['orange', 'blue'])\n",
        "rects = ax.patches\n",
        "\n",
        "def add_value_labels(ax, spacing=0.5):\n",
        "    \"\"\"Add labels to the end of each bar in a bar chart.\n",
        "\n",
        "    Arguments:\n",
        "        ax (matplotlib.axes.Axes): The matplotlib object containing the axes\n",
        "            of the plot to annotate.\n",
        "        spacing (int): The distance between the labels and the bars.\n",
        "    \"\"\"\n",
        "\n",
        "    # For each bar: Place a label\n",
        "    for rect in ax.patches:\n",
        "        # Get X and Y placement of label from rect.\n",
        "        y_value = rect.get_height()\n",
        "        x_value = rect.get_x() + rect.get_width() / 2\n",
        "\n",
        "        # Number of points between bar and label. Change to your liking.\n",
        "        space = spacing\n",
        "        # Vertical alignment for positive values\n",
        "        va = 'bottom'\n",
        "\n",
        "        # If value of bar is negative: Place label below bar\n",
        "        if y_value < 0:\n",
        "            # Invert space to place label below\n",
        "            space *= -1\n",
        "            # Vertically align label at top\n",
        "            va = 'top'\n",
        "\n",
        "        # Use Y value as label and format number with one decimal place\n",
        "        label = \"{:.1f}\".format(y_value)\n",
        "\n",
        "        # Create annotation\n",
        "        ax.annotate(\n",
        "            label,                      # Use `label` as label\n",
        "            (x_value, y_value),         # Place label at end of the bar\n",
        "            xytext=(0, space),          # Vertically shift label by `space`\n",
        "            textcoords=\"offset points\", # Interpret `xytext` as offset in points\n",
        "            ha='center',                # Horizontally center label\n",
        "            va=va)                      # Vertically align label differently for\n",
        "                                        # positive and negative values.\n",
        "\n",
        "\n",
        "# Call the function above. All the magic happens there.\n",
        "add_value_labels(ax)\n",
        "\n",
        "# Rotate the x-labels by 30 degrees, and keep the text aligned horizontally\n",
        "plt.xticks(rotation=0, horizontalalignment=\"center\")\n",
        "plt.xlabel(\"Conditional of Insurance User (Sex, Smoker)\")\n",
        "plt.ylabel(\"Average Age\")\n",
        "plt.show()"
      ],
      "metadata": {
        "colab": {
          "base_uri": "https://localhost:8080/",
          "height": 472
        },
        "id": "YSET-er1SEo4",
        "outputId": "9a772318-4e40-4468-fce6-dee04436482c"
      },
      "execution_count": 13,
      "outputs": [
        {
          "output_type": "display_data",
          "data": {
            "text/plain": [
              "<Figure size 640x480 with 1 Axes>"
            ],
            "image/png": "[encoded data removed]"
          },
          "metadata": {}
        }
      ]
    },
    {
      "cell_type": "markdown",
      "source": [
        "## 1.5 Costs based on region"
      ],
      "metadata": {
        "id": "oiH1_onwVAQ1"
      }
    },
    {
      "cell_type": "code",
      "source": [
        "# Divide data by region: southwest, southeast, northwest, and northeast.\n",
        "# Display the statistical descriptive value\n",
        "\n",
        "charges_by_region = insurance.groupby('region')[['charges']].agg([len, min, max, 'mean', 'median'])\n",
        "print(charges_by_region)"
      ],
      "metadata": {
        "colab": {
          "base_uri": "https://localhost:8080/"
        },
        "id": "BKTJFrg8Uq6H",
        "outputId": "216d4525-c733-4bf5-f6d6-39f61be07ba3"
      },
      "execution_count": 14,
      "outputs": [
        {
          "output_type": "stream",
          "name": "stdout",
          "text": [
            "          charges                                                    \n",
            "              len        min          max          mean        median\n",
            "region                                                               \n",
            "northeast     324  1694.7964  58571.07448  13406.384516  10057.652025\n",
            "northwest     325  1621.3402  60021.39897  12417.575374   8965.795750\n",
            "southeast     364  1121.8739  63770.42801  14735.411438   9294.131950\n",
            "southwest     325  1241.5650  52590.82939  12346.937377   8798.593000\n"
          ]
        }
      ]
    },
    {
      "cell_type": "code",
      "source": [
        "# Plot chart of costs by region\n",
        "\n",
        "charges_by_region['charges'].plot(kind='bar', figsize=(8,7), width=0.9, rot=0,\n",
        "                                 title='Costs based on region')\n",
        "plt.show()"
      ],
      "metadata": {
        "colab": {
          "base_uri": "https://localhost:8080/",
          "height": 641
        },
        "id": "kec6eXccU7_-",
        "outputId": "096c4901-9d32-49a3-a848-4e3ce6a70044"
      },
      "execution_count": 15,
      "outputs": [
        {
          "output_type": "display_data",
          "data": {
            "text/plain": [
              "<Figure size 800x700 with 1 Axes>"
            ],
            "image/png": "[encoded data removed]"
          },
          "metadata": {}
        }
      ]
    },
    {
      "cell_type": "markdown",
      "source": [
        "#2. Discrete Variable Analysis"
      ],
      "metadata": {
        "id": "fKKXtvR6VvKb"
      }
    },
    {
      "cell_type": "markdown",
      "source": [
        "Identify opportunities for certain conditions that have the potential to have a certain amount"
      ],
      "metadata": {
        "id": "NEw3rnuNvXQe"
      }
    },
    {
      "cell_type": "markdown",
      "source": [
        "## 2.1 Which gender has the highest billing?"
      ],
      "metadata": {
        "id": "eUwvPdmtvz4t"
      }
    },
    {
      "cell_type": "code",
      "source": [
        "# Grouping to find out the proportion of each gender\n",
        "insurance.groupby([\"sex\"])[[\"charges\"]].max()"
      ],
      "metadata": {
        "colab": {
          "base_uri": "https://localhost:8080/",
          "height": 0
        },
        "id": "Vz8cSSU2vgOx",
        "outputId": "7b90ae9f-fb4d-4167-eafe-e2c79c6a3392"
      },
      "execution_count": 16,
      "outputs": [
        {
          "output_type": "execute_result",
          "data": {
            "text/plain": [
              "            charges\n",
              "sex                \n",
              "female  63770.42801\n",
              "male    62592.87309"
            ],
            "text/html": [
              "\n",
              "  <div id=\"df-083a2b52-35bc-459b-b4bd-21160fe3bbe2\">\n",
              "    <div class=\"colab-df-container\">\n",
              "      <div>\n",
              "<style scoped>\n",
              "    .dataframe tbody tr th:only-of-type {\n",
              "        vertical-align: middle;\n",
              "    }\n",
              "\n",
              "    .dataframe tbody tr th {\n",
              "        vertical-align: top;\n",
              "    }\n",
              "\n",
              "    .dataframe thead th {\n",
              "        text-align: right;\n",
              "    }\n",
              "</style>\n",
              "<table border=\"1\" class=\"dataframe\">\n",
              "  <thead>\n",
              "    <tr style=\"text-align: right;\">\n",
              "      <th></th>\n",
              "      <th>charges</th>\n",
              "    </tr>\n",
              "    <tr>\n",
              "      <th>sex</th>\n",
              "      <th></th>\n",
              "    </tr>\n",
              "  </thead>\n",
              "  <tbody>\n",
              "    <tr>\n",
              "      <th>female</th>\n",
              "      <td>63770.42801</td>\n",
              "    </tr>\n",
              "    <tr>\n",
              "      <th>male</th>\n",
              "      <td>62592.87309</td>\n",
              "    </tr>\n",
              "  </tbody>\n",
              "</table>\n",
              "</div>\n",
              "      <button class=\"colab-df-convert\" onclick=\"convertToInteractive('df-083a2b52-35bc-459b-b4bd-21160fe3bbe2')\"\n",
              "              title=\"Convert this dataframe to an interactive table.\"\n",
              "              style=\"display:none;\">\n",
              "        \n",
              "  <svg xmlns=\"http://www.w3.org/2000/svg\" height=\"24px\"viewBox=\"0 0 24 24\"\n",
              "       width=\"24px\">\n",
              "    <path d=\"M0 0h24v24H0V0z\" fill=\"none\"/>\n",
              "    <path d=\"M18.56 5.44l.94 2.06.94-2.06 2.06-.94-2.06-.94-.94-2.06-.94 2.06-2.06.94zm-11 1L8.5 8.5l.94-2.06 2.06-.94-2.06-.94L8.5 2.5l-.94 2.06-2.06.94zm10 10l.94 2.06.94-2.06 2.06-.94-2.06-.94-.94-2.06-.94 2.06-2.06.94z\"/><path d=\"M17.41 7.96l-1.37-1.37c-.4-.4-.92-.59-1.43-.59-.52 0-1.04.2-1.43.59L10.3 9.45l-7.72 7.72c-.78.78-.78 2.05 0 2.83L4 21.41c.39.39.9.59 1.41.59.51 0 1.02-.2 1.41-.59l7.78-7.78 2.81-2.81c.8-.78.8-2.07 0-2.86zM5.41 20L4 18.59l7.72-7.72 1.47 1.35L5.41 20z\"/>\n",
              "  </svg>\n",
              "      </button>\n",
              "      \n",
              "  <style>\n",
              "    .colab-df-container {\n",
              "      display:flex;\n",
              "      flex-wrap:wrap;\n",
              "      gap: 12px;\n",
              "    }\n",
              "\n",
              "    .colab-df-convert {\n",
              "      background-color: #E8F0FE;\n",
              "      border: none;\n",
              "      border-radius: 50%;\n",
              "      cursor: pointer;\n",
              "      display: none;\n",
              "      fill: #1967D2;\n",
              "      height: 32px;\n",
              "      padding: 0 0 0 0;\n",
              "      width: 32px;\n",
              "    }\n",
              "\n",
              "    .colab-df-convert:hover {\n",
              "      background-color: #E2EBFA;\n",
              "      box-shadow: 0px 1px 2px rgba(60, 64, 67, 0.3), 0px 1px 3px 1px rgba(60, 64, 67, 0.15);\n",
              "      fill: #174EA6;\n",
              "    }\n",
              "\n",
              "    [theme=dark] .colab-df-convert {\n",
              "      background-color: #3B4455;\n",
              "      fill: #D2E3FC;\n",
              "    }\n",
              "\n",
              "    [theme=dark] .colab-df-convert:hover {\n",
              "      background-color: #434B5C;\n",
              "      box-shadow: 0px 1px 3px 1px rgba(0, 0, 0, 0.15);\n",
              "      filter: drop-shadow(0px 1px 2px rgba(0, 0, 0, 0.3));\n",
              "      fill: #FFFFFF;\n",
              "    }\n",
              "  </style>\n",
              "\n",
              "      <script>\n",
              "        const buttonEl =\n",
              "          document.querySelector('#df-083a2b52-35bc-459b-b4bd-21160fe3bbe2 button.colab-df-convert');\n",
              "        buttonEl.style.display =\n",
              "          google.colab.kernel.accessAllowed ? 'block' : 'none';\n",
              "\n",
              "        async function convertToInteractive(key) {\n",
              "          const element = document.querySelector('#df-083a2b52-35bc-459b-b4bd-21160fe3bbe2');\n",
              "          const dataTable =\n",
              "            await google.colab.kernel.invokeFunction('convertToInteractive',\n",
              "                                                     [key], {});\n",
              "          if (!dataTable) return;\n",
              "\n",
              "          const docLinkHtml = 'Like what you see? Visit the ' +\n",
              "            '<a target=\"_blank\" href=https://colab.research.google.com/notebooks/data_table.ipynb>data table notebook</a>'\n",
              "            + ' to learn more about interactive tables.';\n",
              "          element.innerHTML = '';\n",
              "          dataTable['output_type'] = 'display_data';\n",
              "          await google.colab.output.renderOutput(dataTable, element);\n",
              "          const docLink = document.createElement('div');\n",
              "          docLink.innerHTML = docLinkHtml;\n",
              "          element.appendChild(docLink);\n",
              "        }\n",
              "      </script>\n",
              "    </div>\n",
              "  </div>\n",
              "  "
            ]
          },
          "metadata": {},
          "execution_count": 16
        }
      ]
    },
    {
      "cell_type": "markdown",
      "source": [
        "women are paid more expensively than men"
      ],
      "metadata": {
        "id": "Af-Np7LDwZdV"
      }
    },
    {
      "cell_type": "code",
      "source": [
        "# add up the two genders in order to see the proportions of the two genders\n",
        "total = 63770.42801 + 62592.87309\n",
        "woman = 63770.42801\n",
        "\n",
        "woman_proportion = woman/total\n",
        "print(f'the proportion for women is: {woman_proportion}')"
      ],
      "metadata": {
        "colab": {
          "base_uri": "https://localhost:8080/"
        },
        "id": "JZUNoW9xwjj8",
        "outputId": "c0613d26-8874-4f6d-e3d2-0867cd4f7d97"
      },
      "execution_count": 17,
      "outputs": [
        {
          "output_type": "stream",
          "name": "stdout",
          "text": [
            "the proportion for women is: 0.5046594023333884\n"
          ]
        }
      ]
    },
    {
      "cell_type": "markdown",
      "source": [
        "Proportion for woman based on data is 50,5%"
      ],
      "metadata": {
        "id": "KzizTBCLxhag"
      }
    },
    {
      "cell_type": "markdown",
      "source": [
        "## 2.2 What is the probability that a person who is a male is known to be a smoker?"
      ],
      "metadata": {
        "id": "qwYmjLRoxxWT"
      }
    },
    {
      "cell_type": "code",
      "source": [
        "# see the data\n",
        "smoker = pd.crosstab(index = insurance[\"sex\"],columns = insurance[\"smoker\"],margins=True)\n",
        "smoker"
      ],
      "metadata": {
        "colab": {
          "base_uri": "https://localhost:8080/",
          "height": 0
        },
        "id": "nhJpf08Hx83Z",
        "outputId": "87fe622d-1459-45ff-c93b-044aa93f4776"
      },
      "execution_count": 18,
      "outputs": [
        {
          "output_type": "execute_result",
          "data": {
            "text/plain": [
              "smoker    no  yes   All\n",
              "sex                    \n",
              "female   547  115   662\n",
              "male     517  159   676\n",
              "All     1064  274  1338"
            ],
            "text/html": [
              "\n",
              "  <div id=\"df-f5d417f1-8c90-433f-b6d0-7accbd26e0f5\">\n",
              "    <div class=\"colab-df-container\">\n",
              "      <div>\n",
              "<style scoped>\n",
              "    .dataframe tbody tr th:only-of-type {\n",
              "        vertical-align: middle;\n",
              "    }\n",
              "\n",
              "    .dataframe tbody tr th {\n",
              "        vertical-align: top;\n",
              "    }\n",
              "\n",
              "    .dataframe thead th {\n",
              "        text-align: right;\n",
              "    }\n",
              "</style>\n",
              "<table border=\"1\" class=\"dataframe\">\n",
              "  <thead>\n",
              "    <tr style=\"text-align: right;\">\n",
              "      <th>smoker</th>\n",
              "      <th>no</th>\n",
              "      <th>yes</th>\n",
              "      <th>All</th>\n",
              "    </tr>\n",
              "    <tr>\n",
              "      <th>sex</th>\n",
              "      <th></th>\n",
              "      <th></th>\n",
              "      <th></th>\n",
              "    </tr>\n",
              "  </thead>\n",
              "  <tbody>\n",
              "    <tr>\n",
              "      <th>female</th>\n",
              "      <td>547</td>\n",
              "      <td>115</td>\n",
              "      <td>662</td>\n",
              "    </tr>\n",
              "    <tr>\n",
              "      <th>male</th>\n",
              "      <td>517</td>\n",
              "      <td>159</td>\n",
              "      <td>676</td>\n",
              "    </tr>\n",
              "    <tr>\n",
              "      <th>All</th>\n",
              "      <td>1064</td>\n",
              "      <td>274</td>\n",
              "      <td>1338</td>\n",
              "    </tr>\n",
              "  </tbody>\n",
              "</table>\n",
              "</div>\n",
              "      <button class=\"colab-df-convert\" onclick=\"convertToInteractive('df-f5d417f1-8c90-433f-b6d0-7accbd26e0f5')\"\n",
              "              title=\"Convert this dataframe to an interactive table.\"\n",
              "              style=\"display:none;\">\n",
              "        \n",
              "  <svg xmlns=\"http://www.w3.org/2000/svg\" height=\"24px\"viewBox=\"0 0 24 24\"\n",
              "       width=\"24px\">\n",
              "    <path d=\"M0 0h24v24H0V0z\" fill=\"none\"/>\n",
              "    <path d=\"M18.56 5.44l.94 2.06.94-2.06 2.06-.94-2.06-.94-.94-2.06-.94 2.06-2.06.94zm-11 1L8.5 8.5l.94-2.06 2.06-.94-2.06-.94L8.5 2.5l-.94 2.06-2.06.94zm10 10l.94 2.06.94-2.06 2.06-.94-2.06-.94-.94-2.06-.94 2.06-2.06.94z\"/><path d=\"M17.41 7.96l-1.37-1.37c-.4-.4-.92-.59-1.43-.59-.52 0-1.04.2-1.43.59L10.3 9.45l-7.72 7.72c-.78.78-.78 2.05 0 2.83L4 21.41c.39.39.9.59 1.41.59.51 0 1.02-.2 1.41-.59l7.78-7.78 2.81-2.81c.8-.78.8-2.07 0-2.86zM5.41 20L4 18.59l7.72-7.72 1.47 1.35L5.41 20z\"/>\n",
              "  </svg>\n",
              "      </button>\n",
              "      \n",
              "  <style>\n",
              "    .colab-df-container {\n",
              "      display:flex;\n",
              "      flex-wrap:wrap;\n",
              "      gap: 12px;\n",
              "    }\n",
              "\n",
              "    .colab-df-convert {\n",
              "      background-color: #E8F0FE;\n",
              "      border: none;\n",
              "      border-radius: 50%;\n",
              "      cursor: pointer;\n",
              "      display: none;\n",
              "      fill: #1967D2;\n",
              "      height: 32px;\n",
              "      padding: 0 0 0 0;\n",
              "      width: 32px;\n",
              "    }\n",
              "\n",
              "    .colab-df-convert:hover {\n",
              "      background-color: #E2EBFA;\n",
              "      box-shadow: 0px 1px 2px rgba(60, 64, 67, 0.3), 0px 1px 3px 1px rgba(60, 64, 67, 0.15);\n",
              "      fill: #174EA6;\n",
              "    }\n",
              "\n",
              "    [theme=dark] .colab-df-convert {\n",
              "      background-color: #3B4455;\n",
              "      fill: #D2E3FC;\n",
              "    }\n",
              "\n",
              "    [theme=dark] .colab-df-convert:hover {\n",
              "      background-color: #434B5C;\n",
              "      box-shadow: 0px 1px 3px 1px rgba(0, 0, 0, 0.15);\n",
              "      filter: drop-shadow(0px 1px 2px rgba(0, 0, 0, 0.3));\n",
              "      fill: #FFFFFF;\n",
              "    }\n",
              "  </style>\n",
              "\n",
              "      <script>\n",
              "        const buttonEl =\n",
              "          document.querySelector('#df-f5d417f1-8c90-433f-b6d0-7accbd26e0f5 button.colab-df-convert');\n",
              "        buttonEl.style.display =\n",
              "          google.colab.kernel.accessAllowed ? 'block' : 'none';\n",
              "\n",
              "        async function convertToInteractive(key) {\n",
              "          const element = document.querySelector('#df-f5d417f1-8c90-433f-b6d0-7accbd26e0f5');\n",
              "          const dataTable =\n",
              "            await google.colab.kernel.invokeFunction('convertToInteractive',\n",
              "                                                     [key], {});\n",
              "          if (!dataTable) return;\n",
              "\n",
              "          const docLinkHtml = 'Like what you see? Visit the ' +\n",
              "            '<a target=\"_blank\" href=https://colab.research.google.com/notebooks/data_table.ipynb>data table notebook</a>'\n",
              "            + ' to learn more about interactive tables.';\n",
              "          element.innerHTML = '';\n",
              "          dataTable['output_type'] = 'display_data';\n",
              "          await google.colab.output.renderOutput(dataTable, element);\n",
              "          const docLink = document.createElement('div');\n",
              "          docLink.innerHTML = docLinkHtml;\n",
              "          element.appendChild(docLink);\n",
              "        }\n",
              "      </script>\n",
              "    </div>\n",
              "  </div>\n",
              "  "
            ]
          },
          "metadata": {},
          "execution_count": 18
        }
      ]
    },
    {
      "cell_type": "code",
      "source": [
        "# Calculate the probability that the male is a smoker\n",
        "male_smoker = 159\n",
        "total_smoker = 274\n",
        "\n",
        "probability_male_smoker = male_smoker / total_smoker\n",
        "probability_male_smoker"
      ],
      "metadata": {
        "colab": {
          "base_uri": "https://localhost:8080/"
        },
        "id": "79fO5i8h5NN7",
        "outputId": "17463702-7b6b-4acc-f827-c6586c887662"
      },
      "execution_count": 19,
      "outputs": [
        {
          "output_type": "execute_result",
          "data": {
            "text/plain": [
              "0.5802919708029197"
            ]
          },
          "metadata": {},
          "execution_count": 19
        }
      ]
    },
    {
      "cell_type": "markdown",
      "source": [
        "the chance of men smoking based on the data is 58%"
      ],
      "metadata": {
        "id": "lYoIuGGE6OhN"
      }
    },
    {
      "cell_type": "markdown",
      "source": [
        "## 2.3 What is the probability that a person is known to be a woman who smokes?"
      ],
      "metadata": {
        "id": "LgkL21zn6YvY"
      }
    },
    {
      "cell_type": "code",
      "source": [
        "# Calculate the probability that the female is a smoker\n",
        "female_smoker = 115\n",
        "total_smoker = 274\n",
        "\n",
        "probability_female_smoker = female_smoker / total_smoker\n",
        "probability_female_smoker"
      ],
      "metadata": {
        "colab": {
          "base_uri": "https://localhost:8080/"
        },
        "id": "8_bp6Egw6Tug",
        "outputId": "8ab0b230-8f38-4020-e98a-9be982cff1cb"
      },
      "execution_count": 20,
      "outputs": [
        {
          "output_type": "execute_result",
          "data": {
            "text/plain": [
              "0.4197080291970803"
            ]
          },
          "metadata": {},
          "execution_count": 20
        }
      ]
    },
    {
      "cell_type": "markdown",
      "source": [
        "the chance of men smoking based on the data is 42%"
      ],
      "metadata": {
        "id": "sXKQK-Au8UWS"
      }
    },
    {
      "cell_type": "markdown",
      "source": [
        "## 2.4 Distribution of billing odds in each region?"
      ],
      "metadata": {
        "id": "4t_DDpn37F7a"
      }
    },
    {
      "cell_type": "code",
      "source": [
        "# Distribusi peluang tagihan di tiap-tiap region\n",
        "\n",
        "sns.displot(insurance, x=\"charges\", hue=\"region\", kind=\"kde\", legend=True, fill=True)\n",
        "plt.title('Distribution of Charges by Region')\n",
        "plt.show()"
      ],
      "metadata": {
        "colab": {
          "base_uri": "https://localhost:8080/",
          "height": 0
        },
        "id": "ILCwqpKZ7GLE",
        "outputId": "6b924465-5615-4861-d09c-fd0dcc423014"
      },
      "execution_count": 21,
      "outputs": [
        {
          "output_type": "display_data",
          "data": {
            "text/plain": [
              "<Figure size 621.125x500 with 1 Axes>"
            ],
            "image/png": "[encoded data removed]"
          },
          "metadata": {}
        }
      ]
    },
    {
      "cell_type": "markdown",
      "source": [
        "Many people from these four regions are charged between 0 - 20000"
      ],
      "metadata": {
        "id": "RLTmhDbR8d6e"
      }
    },
    {
      "cell_type": "markdown",
      "source": [
        "## 2.5 Does each region have the same proportion of people data?"
      ],
      "metadata": {
        "id": "fc0p1S5d7g-e"
      }
    },
    {
      "cell_type": "code",
      "source": [
        "# Displays the proportions of the four regions\n",
        "count_by_region = insurance['region'].value_counts()\n",
        "total_count = len(insurance)\n",
        "proportion_by_region = count_by_region / total_count\n",
        "if (proportion_by_region - proportion_by_region.mean()).abs().max() < 0.01:\n",
        "    print(\"Each region has the same proportion of data for many people.\")\n",
        "    print(proportion_by_region)\n",
        "else:\n",
        "    print(\"Each region does not have the same proportion of data for many people.\")\n",
        "    print(proportion_by_region)"
      ],
      "metadata": {
        "colab": {
          "base_uri": "https://localhost:8080/"
        },
        "id": "aZTbowpR7j61",
        "outputId": "3da60266-e89f-4498-fa24-9adcf3c5f6e5"
      },
      "execution_count": 22,
      "outputs": [
        {
          "output_type": "stream",
          "name": "stdout",
          "text": [
            "Each region does not have the same proportion of data for many people.\n",
            "southeast    0.272048\n",
            "southwest    0.242900\n",
            "northwest    0.242900\n",
            "northeast    0.242152\n",
            "Name: region, dtype: float64\n"
          ]
        }
      ]
    },
    {
      "cell_type": "code",
      "source": [
        "plt.figure(figsize=(10,6))\n",
        "\n",
        "label = [\n",
        "    \"southeast\",\n",
        "    \"southwest\",\n",
        "    \"northwest\",\n",
        "    \"northeast\"\n",
        "    ]\n",
        "\n",
        "plt.pie(proportion_by_region,labels = label, autopct = '%.0f%%')\n",
        "plt.show()"
      ],
      "metadata": {
        "colab": {
          "base_uri": "https://localhost:8080/",
          "height": 0
        },
        "id": "fSY4E-El7ytd",
        "outputId": "662e3b08-13f6-4dd8-a88c-ae8cdd7d2894"
      },
      "execution_count": 23,
      "outputs": [
        {
          "output_type": "display_data",
          "data": {
            "text/plain": [
              "<Figure size 1000x600 with 1 Axes>"
            ],
            "image/png": "[encoded data removed]"
          },
          "metadata": {}
        }
      ]
    },
    {
      "cell_type": "markdown",
      "source": [
        "The southeast has a 3% higher population percentage than the other 3 areas, measured in percentage terms."
      ],
      "metadata": {
        "id": "3mGLpYwf81xt"
      }
    },
    {
      "cell_type": "markdown",
      "source": [
        "# 3. Continuous Variable Analysis"
      ],
      "metadata": {
        "id": "QMiOmIxs-Z7z"
      }
    },
    {
      "cell_type": "markdown",
      "source": [
        "## 3.1 Which is more likely to occur"
      ],
      "metadata": {
        "id": "yszsZaGqAtdM"
      }
    },
    {
      "cell_type": "markdown",
      "source": [
        "\n",
        "> A. Someone with a BMI over 25 gets a health bill over 16.7k, or\n",
        "\n",
        "> B. Someone with a BMI below 25 gets a health bill above 16.7k"
      ],
      "metadata": {
        "id": "Pdrf6JJ5A4bh"
      }
    },
    {
      "cell_type": "code",
      "source": [
        "# Calculate the proportion of data with a BMI above 25 and health bills above 16.7k\n",
        "prop_a = ((insurance['bmi'] > 25) & (insurance['charges'] > 16700)).sum() / len(insurance)\n",
        "\n",
        "# Calculate the proportion of data with a BMI below 25 and health bills above 16.7k\n",
        "prop_b = ((insurance['bmi'] < 25) & (insurance['charges'] > 16700)).sum() / len(insurance)\n",
        "\n",
        "print('Proportion of case A occur:', prop_a)\n",
        "print('Proportion of case B occur:', prop_b)"
      ],
      "metadata": {
        "colab": {
          "base_uri": "https://localhost:8080/"
        },
        "id": "GhBbVbXX-ZIg",
        "outputId": "4be909d5-fbf4-489b-f253-88f6e2c23e48"
      },
      "execution_count": 24,
      "outputs": [
        {
          "output_type": "stream",
          "name": "stdout",
          "text": [
            "Proportion of case A occur: 0.21150971599402094\n",
            "Proportion of case B occur: 0.03811659192825112\n"
          ]
        }
      ]
    },
    {
      "cell_type": "markdown",
      "source": [
        "## 3.1 Which is more likely to occur"
      ],
      "metadata": {
        "id": "Zen6T7cEG5e5"
      }
    },
    {
      "cell_type": "markdown",
      "source": [
        "\n",
        "\n",
        "> A. A smoker with a BMI above 25 gets a health bill above 16.7k, or\n",
        "\n",
        "> B. A non-smoker with a BMI over 25 gets a health bill above 16.7k\n",
        "\n",
        "\n",
        "\n"
      ],
      "metadata": {
        "id": "ugd1guKbHEk3"
      }
    },
    {
      "cell_type": "code",
      "source": [
        "# Case A\n",
        "a = len(insurance[(insurance['smoker'] == 'yes') & (insurance['bmi'] > 25) & (insurance['charges'] > 16700)])\n",
        "\n",
        "# Case B\n",
        "b = len(insurance[(insurance['smoker'] == 'no') & (insurance['bmi'] > 25) & (insurance['charges'] > 16700)])\n",
        "\n",
        "# Proportion of case A\n",
        "prop_a = a / len(insurance)\n",
        "\n",
        "# Proportion of case A\n",
        "prop_b = b / len(insurance)\n",
        "\n",
        "print(\"Proportion of case A occur:\", prop_a)\n",
        "print(\"Proportion of case B occur:\", prop_b)"
      ],
      "metadata": {
        "colab": {
          "base_uri": "https://localhost:8080/"
        },
        "id": "39-yn_obDh9D",
        "outputId": "24b2aa8a-835d-4b9d-b6c4-a8cb20ce5082"
      },
      "execution_count": 25,
      "outputs": [
        {
          "output_type": "stream",
          "name": "stdout",
          "text": [
            "Proportion of case A occur: 0.16068759342301944\n",
            "Proportion of case B occur: 0.05082212257100149\n"
          ]
        }
      ]
    },
    {
      "cell_type": "markdown",
      "source": [
        "# 4. Variable Correlation Analysis"
      ],
      "metadata": {
        "id": "KNdfRTkMJA4x"
      }
    },
    {
      "cell_type": "markdown",
      "source": [
        "After addressing the conditions that are more likely to result in higher health bills than the previous step. We can also look for connections between these conditions and health bills. Correlation analysis will be required here. You can choose to check the correlation of health bills with at least 2 other variables."
      ],
      "metadata": {
        "id": "hFpLm7HgK8_t"
      }
    },
    {
      "cell_type": "code",
      "source": [
        "corr = insurance[['bmi', 'children', 'age', 'charges']].corr()\n",
        "sns.heatmap(corr, annot=True, cmap='crest')\n",
        "plt.show()"
      ],
      "metadata": {
        "colab": {
          "base_uri": "https://localhost:8080/",
          "height": 435
        },
        "id": "1vP3AoYWLCRe",
        "outputId": "7b05d4e0-ffcc-4516-8952-840d1ee69366"
      },
      "execution_count": 26,
      "outputs": [
        {
          "output_type": "display_data",
          "data": {
            "text/plain": [
              "<Figure size 640x480 with 2 Axes>"
            ],
            "image/png": "[encoded data removed]"
          },
          "metadata": {}
        }
      ]
    },
    {
      "cell_type": "markdown",
      "source": [
        "In this issue, we wish to examine the relationship between three numerical variables—BMI, children, and age—and health insurance costs(charges). According to the correlation matrix plot, the age variable has a pretty strong positive correlation (0.3) when compared to the other two variables, which indicates that it is one of the crucial factors that affects how much a certain bill will cost."
      ],
      "metadata": {
        "id": "kYyKzb4uLjBn"
      }
    },
    {
      "cell_type": "markdown",
      "source": [
        "# 5. Hypothesis test"
      ],
      "metadata": {
        "id": "mWQ8IEmGMlJr"
      }
    },
    {
      "cell_type": "markdown",
      "source": [
        "The selected hypothesis is\n",
        "1. Smokers' health bills are higher than non-smokers' health bills\n",
        "2. Health bills with a BMI above 25 are higher than health bills with a BMI below 25\n",
        "3. Men's health bills are bigger than women's"
      ],
      "metadata": {
        "id": "_7gqpR2YNIyy"
      }
    },
    {
      "cell_type": "markdown",
      "source": [
        "## 5.1 Smokers' health bills are higher than non-smokers' health bills"
      ],
      "metadata": {
        "id": "AtqBinrVrxTD"
      }
    },
    {
      "cell_type": "markdown",
      "source": [
        "**Hipotesis :**\n",
        "1. 𝐻0: Smoker's Health Bill >= non-smoker health bills\n",
        "2. 𝐻1: Smoker's Health Bill < non-smoker health bills"
      ],
      "metadata": {
        "id": "GKFXTsLrtTTA"
      }
    },
    {
      "cell_type": "code",
      "source": [
        "# Create a boxplot to display the distribution of smokers' and non-smokers' health bills\n",
        "sns.boxplot(x='smoker', y='charges', data=insurance)\n",
        "plt.show()\n",
        "\n",
        "# Calculate the p-value using the independent t-test\n",
        "smoker = insurance[insurance['smoker'] == 'yes']['charges']\n",
        "non_smoker = insurance[insurance['smoker'] == 'no']['charges']\n",
        "t, p = ttest_ind(smoker, non_smoker, equal_var=False)\n",
        "\n",
        "# Display the results of hypothesis testing\n",
        "print('t-value:', t)\n",
        "print('p-value:', p)\n",
        "if p > 0.05:\n",
        "    print('The null hypothesis was rejected, there is a significant difference between the health bills of smokers and non-smokers')\n",
        "else:\n",
        "    print('There is not enough evidence to reject the null hypothesis')"
      ],
      "metadata": {
        "colab": {
          "base_uri": "https://localhost:8080/",
          "height": 501
        },
        "id": "gpmg_Ydjoq8B",
        "outputId": "799d6ef3-dbb7-48c2-d8dd-af4ac4c91820"
      },
      "execution_count": 27,
      "outputs": [
        {
          "output_type": "display_data",
          "data": {
            "text/plain": [
              "<Figure size 640x480 with 1 Axes>"
            ],
            "image/png": "[encoded data removed]"
          },
          "metadata": {}
        },
        {
          "output_type": "stream",
          "name": "stdout",
          "text": [
            "t-value: 32.751887766341824\n",
            "p-value: 5.88946444671698e-103\n",
            "There is not enough evidence to reject the null hypothesis\n"
          ]
        }
      ]
    },
    {
      "cell_type": "code",
      "source": [
        "smoker = insurance[insurance['smoker'] == 'yes']['charges']\n",
        "non_smoker = insurance[insurance['smoker'] == 'no']['charges']\n",
        "\n",
        "# Calculate the p-value using the independent t-test\n",
        "stat, p = ttest_ind(a = smoker, b = non_smoker, equal_var=False, alternative='greater') # equal_var= False karena varians kedua populasi berbeda\n",
        "\n",
        "# Interpretation of Results\n",
        "print('Statistics = %.4f, p-value = %.4f' % (stat, p))\n",
        "\n",
        "# Decision making\n",
        "if p > 0.05:\n",
        "    print(\"The null hypothesis failed to be rejected, there is no significant difference between the health bills of smokers and non-smokers\")\n",
        "else:\n",
        "    print(\"The alternative hypothesis is accepted, smokers' health bills are higher than non-smokers' health bills\")"
      ],
      "metadata": {
        "colab": {
          "base_uri": "https://localhost:8080/"
        },
        "id": "QQeZzp7JLGYm",
        "outputId": "672b94aa-6a30-41b5-a3de-f0ef0b2a19bc"
      },
      "execution_count": 28,
      "outputs": [
        {
          "output_type": "stream",
          "name": "stdout",
          "text": [
            "Statistics = 32.7519, p-value = 0.0000\n",
            "The alternative hypothesis is accepted, smokers' health bills are higher than non-smokers' health bills\n"
          ]
        }
      ]
    },
    {
      "cell_type": "code",
      "source": [
        "print(smoker.var())\n",
        "print(non_smoker.var())\n",
        "print(smoker.mean())\n",
        "print(non_smoker.mean())"
      ],
      "metadata": {
        "colab": {
          "base_uri": "https://localhost:8080/"
        },
        "id": "DgawBHaGqu2I",
        "outputId": "d25e0d4d-7e38-49f3-d3fe-7327dee5ade6"
      },
      "execution_count": 29,
      "outputs": [
        {
          "output_type": "stream",
          "name": "stdout",
          "text": [
            "133207311.20634924\n",
            "35925420.496111736\n",
            "32050.23183153284\n",
            "8434.268297856204\n"
          ]
        }
      ]
    },
    {
      "cell_type": "code",
      "source": [
        "len(smoker)"
      ],
      "metadata": {
        "colab": {
          "base_uri": "https://localhost:8080/"
        },
        "id": "vYMZtaqTq0y2",
        "outputId": "2c1953c5-a7f1-409c-afc9-55cafb365f71"
      },
      "execution_count": 30,
      "outputs": [
        {
          "output_type": "execute_result",
          "data": {
            "text/plain": [
              "274"
            ]
          },
          "metadata": {},
          "execution_count": 30
        }
      ]
    },
    {
      "cell_type": "code",
      "source": [
        "from scipy.stats import norm\n",
        "\n",
        "# input data\n",
        "mean1 = 32050.23183153285\n",
        "mean2 = 8440.660306508935\n",
        "var1 = 133207311.20634921\n",
        "var2 = 35915734.96876324\n",
        "n1 = 274\n",
        "n2 = 1063\n",
        "\n",
        "# Calculate z-score\n",
        "num = mean1 - mean2\n",
        "denom = np.sqrt((var1/n1) + (var2/n2))\n",
        "z_score = num / denom\n",
        "\n",
        "# Determine the critical value\n",
        "alpha = 0.05\n",
        "df = n1 + n2 - 2\n",
        "z_alpha = norm.ppf(1 - alpha/2, loc=0, scale=1)\n",
        "\n",
        "# Compare with critical value\n",
        "if z_score > z_alpha:\n",
        "    print(\"H0 is rejected. The average bill of a smoker is higher than the average bill of a non-smoker.\")\n",
        "else:\n",
        "    print(\"H0 is not rejected. There is insufficient evidence to suggest that the average bill of smokers is higher than the average bill of non-smokers.\")"
      ],
      "metadata": {
        "colab": {
          "base_uri": "https://localhost:8080/"
        },
        "id": "sRf4-mexq7T-",
        "outputId": "876c565d-c016-4f5c-fd97-b431b27b254c"
      },
      "execution_count": 31,
      "outputs": [
        {
          "output_type": "stream",
          "name": "stdout",
          "text": [
            "H0 is rejected. The average bill of a smoker is higher than the average bill of a non-smoker.\n"
          ]
        }
      ]
    },
    {
      "cell_type": "code",
      "source": [
        "z_alpha"
      ],
      "metadata": {
        "colab": {
          "base_uri": "https://localhost:8080/"
        },
        "id": "pVil3VEsq7fU",
        "outputId": "2db7da67-2b30-4446-95fd-2860644ff82b"
      },
      "execution_count": 32,
      "outputs": [
        {
          "output_type": "execute_result",
          "data": {
            "text/plain": [
              "1.959963984540054"
            ]
          },
          "metadata": {},
          "execution_count": 32
        }
      ]
    },
    {
      "cell_type": "markdown",
      "source": [
        "## 5.2 Health bills with a BMI above 25 are higher than health bills with a BMI below 25"
      ],
      "metadata": {
        "id": "l05U31BPosNB"
      }
    },
    {
      "cell_type": "markdown",
      "source": [
        "**Hipotesis :**\n",
        "1. 𝐻0: Health bills with a BMI above 25 >= health bills with a BMI below 25\n",
        "2. 𝐻1: Health bills with BMI above 25 < Health bills with BMI below 25"
      ],
      "metadata": {
        "id": "rzhpEIqsvgOk"
      }
    },
    {
      "cell_type": "code",
      "source": [
        "# filter data by BMI above 25 and below 25\n",
        "above_bmi = insurance[insurance['bmi'] > 25]['charges']\n",
        "below_bmi = insurance[insurance['bmi'] <= 25]['charges']\n",
        "\n",
        "# uji hipotesis\n",
        "alpha = 0.05\n",
        "t_stat, p_val = ttest_ind(above_bmi, below_bmi)\n",
        "\n",
        "if p_val < alpha:\n",
        "    print('Significance level: {}'.format(alpha))\n",
        "    print('t-value: {}'.format(t_stat))\n",
        "    print('p-value: {}'.format(p_val))\n",
        "    print('The alternative hypothesis is accepted, health bills with a BMI above 25 are higher than health bills with a BMI below 25')\n",
        "else:\n",
        "    print('Significance level: {}'.format(alpha))\n",
        "    print('t-value: {}'.format(t_stat))\n",
        "    print('p-value: {}'.format(p_val))\n",
        "    print('The null hypothesis is accepted, there is no significant difference between health bills with a BMI above 25 and health bills with a BMI below 25')"
      ],
      "metadata": {
        "colab": {
          "base_uri": "https://localhost:8080/"
        },
        "id": "kDKJQYTovn7k",
        "outputId": "33ff4f82-e998-45b1-9dd3-bb6eadffda54"
      },
      "execution_count": 33,
      "outputs": [
        {
          "output_type": "stream",
          "name": "stdout",
          "text": [
            "Significance level: 0.05\n",
            "t-value: 4.319946909530397\n",
            "p-value: 1.6761321969419405e-05\n",
            "The alternative hypothesis is accepted, health bills with a BMI above 25 are higher than health bills with a BMI below 25\n"
          ]
        }
      ]
    },
    {
      "cell_type": "markdown",
      "source": [
        "## 5.3 Men's health bills are bigger than women's"
      ],
      "metadata": {
        "id": "70UTbURdwY-K"
      }
    },
    {
      "cell_type": "markdown",
      "source": [
        "**Hipotesis :**\n",
        "1. 𝐻0: Men's Health Bill >= Woman's health bills\n",
        "2. 𝐻1: Men's Health Bill < Woman's health bills"
      ],
      "metadata": {
        "id": "17sX8o7lwclC"
      }
    },
    {
      "cell_type": "code",
      "source": [
        "# Create male and female data subsets\n",
        "male_insurance = insurance[insurance['sex'] == 'male']\n",
        "female_insurance = insurance[insurance['sex'] == 'female']\n",
        "\n",
        "# Calculate the mean medical bills for each group\n",
        "male_mean_charge = male_insurance['charges'].mean()\n",
        "female_mean_charge = female_insurance['charges'].mean()\n",
        "\n",
        "# Test the mean difference using the t-test\n",
        "t, p = ttest_ind(male_insurance['charges'], female_insurance['charges'])\n",
        "print('t-value:', t)\n",
        "print('p-value:', p)\n",
        "\n",
        "if p < 0.05:\n",
        "    print('The alternative hypothesis is accepted, male health bills are greater than female')\n",
        "else:\n",
        "    print('The null hypothesis is accepted, there is no significant difference between male and female health bills')"
      ],
      "metadata": {
        "colab": {
          "base_uri": "https://localhost:8080/"
        },
        "id": "cssm-4tWw78a",
        "outputId": "0efc640b-b918-4aeb-92c6-efedf02ec6da"
      },
      "execution_count": 34,
      "outputs": [
        {
          "output_type": "stream",
          "name": "stdout",
          "text": [
            "t-value: 2.097546590051688\n",
            "p-value: 0.03613272100592976\n",
            "The alternative hypothesis is accepted, male health bills are greater than female\n"
          ]
        }
      ]
    }
  ]
}